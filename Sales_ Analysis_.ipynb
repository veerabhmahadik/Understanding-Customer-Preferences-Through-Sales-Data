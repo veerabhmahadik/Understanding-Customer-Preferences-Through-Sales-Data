{
 "cells": [
  {
   "cell_type": "code",
   "execution_count": 223,
   "id": "d9f2e716-1692-418f-a558-a786339f090c",
   "metadata": {},
   "outputs": [],
   "source": [
    "import pandas as pd\n",
    "import matplotlib.pyplot as plt\n",
    "import seaborn as sns\n",
    "import glob\n",
    "import calendar\n",
    "from itertools import combinations\n",
    "from collections import Counter"
   ]
  },
  {
   "cell_type": "markdown",
   "id": "d8264fd8-edd3-4faa-bb0a-5fdb60e3fd63",
   "metadata": {},
   "source": [
    "#### Merge data of 12 files into one file"
   ]
  },
  {
   "cell_type": "code",
   "execution_count": 131,
   "id": "121ce6cb-b286-497e-abe0-3b0c3888cadc",
   "metadata": {},
   "outputs": [],
   "source": [
    "# Path to your CSV files\n",
    "path = \"./\"  # Current directory of Jupyter Notebook\n",
    "\n",
    "# Use glob to find files matching your pattern\n",
    "csv_files = glob.glob(path + \"Sales_*.csv\")\n",
    "\n",
    "# List to store DataFrames\n",
    "df_list = []\n",
    "\n",
    "# Read each file and append to list\n",
    "for file in csv_files:\n",
    "    df = pd.read_csv(file)\n",
    "    df_list.append(df)\n",
    "\n",
    "# Concatenate all DataFrames\n",
    "master_df = pd.concat(df_list, ignore_index=True)"
   ]
  },
  {
   "cell_type": "code",
   "execution_count": 132,
   "id": "deaaf4ef-e188-49f9-9765-017ce1990eea",
   "metadata": {},
   "outputs": [
    {
     "data": {
      "text/html": [
       "<div>\n",
       "<style scoped>\n",
       "    .dataframe tbody tr th:only-of-type {\n",
       "        vertical-align: middle;\n",
       "    }\n",
       "\n",
       "    .dataframe tbody tr th {\n",
       "        vertical-align: top;\n",
       "    }\n",
       "\n",
       "    .dataframe thead th {\n",
       "        text-align: right;\n",
       "    }\n",
       "</style>\n",
       "<table border=\"1\" class=\"dataframe\">\n",
       "  <thead>\n",
       "    <tr style=\"text-align: right;\">\n",
       "      <th></th>\n",
       "      <th>Order ID</th>\n",
       "      <th>Product</th>\n",
       "      <th>Quantity Ordered</th>\n",
       "      <th>Price Each</th>\n",
       "      <th>Order Date</th>\n",
       "      <th>Purchase Address</th>\n",
       "    </tr>\n",
       "  </thead>\n",
       "  <tbody>\n",
       "    <tr>\n",
       "      <th>0</th>\n",
       "      <td>295665</td>\n",
       "      <td>Macbook Pro Laptop</td>\n",
       "      <td>1</td>\n",
       "      <td>1700</td>\n",
       "      <td>12/30/19 00:01</td>\n",
       "      <td>136 Church St, New York City, NY 10001</td>\n",
       "    </tr>\n",
       "    <tr>\n",
       "      <th>1</th>\n",
       "      <td>295666</td>\n",
       "      <td>LG Washing Machine</td>\n",
       "      <td>1</td>\n",
       "      <td>600.0</td>\n",
       "      <td>12/29/19 07:03</td>\n",
       "      <td>562 2nd St, New York City, NY 10001</td>\n",
       "    </tr>\n",
       "    <tr>\n",
       "      <th>2</th>\n",
       "      <td>295667</td>\n",
       "      <td>USB-C Charging Cable</td>\n",
       "      <td>1</td>\n",
       "      <td>11.95</td>\n",
       "      <td>12/12/19 18:21</td>\n",
       "      <td>277 Main St, New York City, NY 10001</td>\n",
       "    </tr>\n",
       "    <tr>\n",
       "      <th>3</th>\n",
       "      <td>295668</td>\n",
       "      <td>27in FHD Monitor</td>\n",
       "      <td>1</td>\n",
       "      <td>149.99</td>\n",
       "      <td>12/22/19 15:13</td>\n",
       "      <td>410 6th St, San Francisco, CA 94016</td>\n",
       "    </tr>\n",
       "    <tr>\n",
       "      <th>4</th>\n",
       "      <td>295669</td>\n",
       "      <td>USB-C Charging Cable</td>\n",
       "      <td>1</td>\n",
       "      <td>11.95</td>\n",
       "      <td>12/18/19 12:38</td>\n",
       "      <td>43 Hill St, Atlanta, GA 30301</td>\n",
       "    </tr>\n",
       "  </tbody>\n",
       "</table>\n",
       "</div>"
      ],
      "text/plain": [
       "  Order ID               Product Quantity Ordered Price Each      Order Date  \\\n",
       "0   295665    Macbook Pro Laptop                1       1700  12/30/19 00:01   \n",
       "1   295666    LG Washing Machine                1      600.0  12/29/19 07:03   \n",
       "2   295667  USB-C Charging Cable                1      11.95  12/12/19 18:21   \n",
       "3   295668      27in FHD Monitor                1     149.99  12/22/19 15:13   \n",
       "4   295669  USB-C Charging Cable                1      11.95  12/18/19 12:38   \n",
       "\n",
       "                         Purchase Address  \n",
       "0  136 Church St, New York City, NY 10001  \n",
       "1     562 2nd St, New York City, NY 10001  \n",
       "2    277 Main St, New York City, NY 10001  \n",
       "3     410 6th St, San Francisco, CA 94016  \n",
       "4           43 Hill St, Atlanta, GA 30301  "
      ]
     },
     "execution_count": 132,
     "metadata": {},
     "output_type": "execute_result"
    }
   ],
   "source": [
    "master_df.head()"
   ]
  },
  {
   "cell_type": "code",
   "execution_count": 133,
   "id": "ba54d43d-645c-4dd5-b032-b6faf2d82045",
   "metadata": {},
   "outputs": [],
   "source": [
    "master_df['Order_Month'] = master_df['Order Date'].str[0:2]"
   ]
  },
  {
   "cell_type": "markdown",
   "id": "ce9fec27-6838-4275-ab7f-2d8b277e7505",
   "metadata": {},
   "source": [
    "#### Remove NaN, non-numeric values and change datatype for Order_Month Column"
   ]
  },
  {
   "cell_type": "code",
   "execution_count": 135,
   "id": "2a2c5e17-bae3-413b-8163-9bdbf8c9293f",
   "metadata": {},
   "outputs": [
    {
     "data": {
      "text/html": [
       "<div>\n",
       "<style scoped>\n",
       "    .dataframe tbody tr th:only-of-type {\n",
       "        vertical-align: middle;\n",
       "    }\n",
       "\n",
       "    .dataframe tbody tr th {\n",
       "        vertical-align: top;\n",
       "    }\n",
       "\n",
       "    .dataframe thead th {\n",
       "        text-align: right;\n",
       "    }\n",
       "</style>\n",
       "<table border=\"1\" class=\"dataframe\">\n",
       "  <thead>\n",
       "    <tr style=\"text-align: right;\">\n",
       "      <th></th>\n",
       "      <th>Order ID</th>\n",
       "      <th>Product</th>\n",
       "      <th>Quantity Ordered</th>\n",
       "      <th>Price Each</th>\n",
       "      <th>Order Date</th>\n",
       "      <th>Purchase Address</th>\n",
       "      <th>Order_Month</th>\n",
       "    </tr>\n",
       "  </thead>\n",
       "  <tbody>\n",
       "    <tr>\n",
       "      <th>264</th>\n",
       "      <td>NaN</td>\n",
       "      <td>NaN</td>\n",
       "      <td>NaN</td>\n",
       "      <td>NaN</td>\n",
       "      <td>NaN</td>\n",
       "      <td>NaN</td>\n",
       "      <td>NaN</td>\n",
       "    </tr>\n",
       "    <tr>\n",
       "      <th>648</th>\n",
       "      <td>NaN</td>\n",
       "      <td>NaN</td>\n",
       "      <td>NaN</td>\n",
       "      <td>NaN</td>\n",
       "      <td>NaN</td>\n",
       "      <td>NaN</td>\n",
       "      <td>NaN</td>\n",
       "    </tr>\n",
       "    <tr>\n",
       "      <th>680</th>\n",
       "      <td>NaN</td>\n",
       "      <td>NaN</td>\n",
       "      <td>NaN</td>\n",
       "      <td>NaN</td>\n",
       "      <td>NaN</td>\n",
       "      <td>NaN</td>\n",
       "      <td>NaN</td>\n",
       "    </tr>\n",
       "    <tr>\n",
       "      <th>1385</th>\n",
       "      <td>NaN</td>\n",
       "      <td>NaN</td>\n",
       "      <td>NaN</td>\n",
       "      <td>NaN</td>\n",
       "      <td>NaN</td>\n",
       "      <td>NaN</td>\n",
       "      <td>NaN</td>\n",
       "    </tr>\n",
       "    <tr>\n",
       "      <th>1495</th>\n",
       "      <td>NaN</td>\n",
       "      <td>NaN</td>\n",
       "      <td>NaN</td>\n",
       "      <td>NaN</td>\n",
       "      <td>NaN</td>\n",
       "      <td>NaN</td>\n",
       "      <td>NaN</td>\n",
       "    </tr>\n",
       "    <tr>\n",
       "      <th>...</th>\n",
       "      <td>...</td>\n",
       "      <td>...</td>\n",
       "      <td>...</td>\n",
       "      <td>...</td>\n",
       "      <td>...</td>\n",
       "      <td>...</td>\n",
       "      <td>...</td>\n",
       "    </tr>\n",
       "    <tr>\n",
       "      <th>185795</th>\n",
       "      <td>NaN</td>\n",
       "      <td>NaN</td>\n",
       "      <td>NaN</td>\n",
       "      <td>NaN</td>\n",
       "      <td>NaN</td>\n",
       "      <td>NaN</td>\n",
       "      <td>NaN</td>\n",
       "    </tr>\n",
       "    <tr>\n",
       "      <th>185868</th>\n",
       "      <td>NaN</td>\n",
       "      <td>NaN</td>\n",
       "      <td>NaN</td>\n",
       "      <td>NaN</td>\n",
       "      <td>NaN</td>\n",
       "      <td>NaN</td>\n",
       "      <td>NaN</td>\n",
       "    </tr>\n",
       "    <tr>\n",
       "      <th>185887</th>\n",
       "      <td>NaN</td>\n",
       "      <td>NaN</td>\n",
       "      <td>NaN</td>\n",
       "      <td>NaN</td>\n",
       "      <td>NaN</td>\n",
       "      <td>NaN</td>\n",
       "      <td>NaN</td>\n",
       "    </tr>\n",
       "    <tr>\n",
       "      <th>185960</th>\n",
       "      <td>NaN</td>\n",
       "      <td>NaN</td>\n",
       "      <td>NaN</td>\n",
       "      <td>NaN</td>\n",
       "      <td>NaN</td>\n",
       "      <td>NaN</td>\n",
       "      <td>NaN</td>\n",
       "    </tr>\n",
       "    <tr>\n",
       "      <th>186580</th>\n",
       "      <td>NaN</td>\n",
       "      <td>NaN</td>\n",
       "      <td>NaN</td>\n",
       "      <td>NaN</td>\n",
       "      <td>NaN</td>\n",
       "      <td>NaN</td>\n",
       "      <td>NaN</td>\n",
       "    </tr>\n",
       "  </tbody>\n",
       "</table>\n",
       "<p>545 rows × 7 columns</p>\n",
       "</div>"
      ],
      "text/plain": [
       "       Order ID Product Quantity Ordered Price Each Order Date  \\\n",
       "264         NaN     NaN              NaN        NaN        NaN   \n",
       "648         NaN     NaN              NaN        NaN        NaN   \n",
       "680         NaN     NaN              NaN        NaN        NaN   \n",
       "1385        NaN     NaN              NaN        NaN        NaN   \n",
       "1495        NaN     NaN              NaN        NaN        NaN   \n",
       "...         ...     ...              ...        ...        ...   \n",
       "185795      NaN     NaN              NaN        NaN        NaN   \n",
       "185868      NaN     NaN              NaN        NaN        NaN   \n",
       "185887      NaN     NaN              NaN        NaN        NaN   \n",
       "185960      NaN     NaN              NaN        NaN        NaN   \n",
       "186580      NaN     NaN              NaN        NaN        NaN   \n",
       "\n",
       "       Purchase Address Order_Month  \n",
       "264                 NaN         NaN  \n",
       "648                 NaN         NaN  \n",
       "680                 NaN         NaN  \n",
       "1385                NaN         NaN  \n",
       "1495                NaN         NaN  \n",
       "...                 ...         ...  \n",
       "185795              NaN         NaN  \n",
       "185868              NaN         NaN  \n",
       "185887              NaN         NaN  \n",
       "185960              NaN         NaN  \n",
       "186580              NaN         NaN  \n",
       "\n",
       "[545 rows x 7 columns]"
      ]
     },
     "execution_count": 135,
     "metadata": {},
     "output_type": "execute_result"
    }
   ],
   "source": [
    "master_df[master_df['Order_Month'].isnull()==1]"
   ]
  },
  {
   "cell_type": "markdown",
   "id": "98734944-9c0d-4c98-8857-301b440b569e",
   "metadata": {},
   "source": [
    "Dropping NaN rows and handling non numeric values"
   ]
  },
  {
   "cell_type": "code",
   "execution_count": 136,
   "id": "b642ba6e-926f-4ba2-808c-6b0c03abfaab",
   "metadata": {},
   "outputs": [],
   "source": [
    "master_df = master_df.dropna(subset=['Order_Month'])"
   ]
  },
  {
   "cell_type": "code",
   "execution_count": 137,
   "id": "c7d1ec8f-8e72-452c-8611-da61377e84bc",
   "metadata": {},
   "outputs": [
    {
     "data": {
      "text/html": [
       "<div>\n",
       "<style scoped>\n",
       "    .dataframe tbody tr th:only-of-type {\n",
       "        vertical-align: middle;\n",
       "    }\n",
       "\n",
       "    .dataframe tbody tr th {\n",
       "        vertical-align: top;\n",
       "    }\n",
       "\n",
       "    .dataframe thead th {\n",
       "        text-align: right;\n",
       "    }\n",
       "</style>\n",
       "<table border=\"1\" class=\"dataframe\">\n",
       "  <thead>\n",
       "    <tr style=\"text-align: right;\">\n",
       "      <th></th>\n",
       "      <th>Order ID</th>\n",
       "      <th>Product</th>\n",
       "      <th>Quantity Ordered</th>\n",
       "      <th>Price Each</th>\n",
       "      <th>Order Date</th>\n",
       "      <th>Purchase Address</th>\n",
       "      <th>Order_Month</th>\n",
       "    </tr>\n",
       "  </thead>\n",
       "  <tbody>\n",
       "    <tr>\n",
       "      <th>254</th>\n",
       "      <td>Order ID</td>\n",
       "      <td>Product</td>\n",
       "      <td>Quantity Ordered</td>\n",
       "      <td>Price Each</td>\n",
       "      <td>Order Date</td>\n",
       "      <td>Purchase Address</td>\n",
       "      <td>Or</td>\n",
       "    </tr>\n",
       "    <tr>\n",
       "      <th>705</th>\n",
       "      <td>Order ID</td>\n",
       "      <td>Product</td>\n",
       "      <td>Quantity Ordered</td>\n",
       "      <td>Price Each</td>\n",
       "      <td>Order Date</td>\n",
       "      <td>Purchase Address</td>\n",
       "      <td>Or</td>\n",
       "    </tr>\n",
       "    <tr>\n",
       "      <th>1101</th>\n",
       "      <td>Order ID</td>\n",
       "      <td>Product</td>\n",
       "      <td>Quantity Ordered</td>\n",
       "      <td>Price Each</td>\n",
       "      <td>Order Date</td>\n",
       "      <td>Purchase Address</td>\n",
       "      <td>Or</td>\n",
       "    </tr>\n",
       "    <tr>\n",
       "      <th>2875</th>\n",
       "      <td>Order ID</td>\n",
       "      <td>Product</td>\n",
       "      <td>Quantity Ordered</td>\n",
       "      <td>Price Each</td>\n",
       "      <td>Order Date</td>\n",
       "      <td>Purchase Address</td>\n",
       "      <td>Or</td>\n",
       "    </tr>\n",
       "    <tr>\n",
       "      <th>3708</th>\n",
       "      <td>Order ID</td>\n",
       "      <td>Product</td>\n",
       "      <td>Quantity Ordered</td>\n",
       "      <td>Price Each</td>\n",
       "      <td>Order Date</td>\n",
       "      <td>Purchase Address</td>\n",
       "      <td>Or</td>\n",
       "    </tr>\n",
       "    <tr>\n",
       "      <th>...</th>\n",
       "      <td>...</td>\n",
       "      <td>...</td>\n",
       "      <td>...</td>\n",
       "      <td>...</td>\n",
       "      <td>...</td>\n",
       "      <td>...</td>\n",
       "      <td>...</td>\n",
       "    </tr>\n",
       "    <tr>\n",
       "      <th>183671</th>\n",
       "      <td>Order ID</td>\n",
       "      <td>Product</td>\n",
       "      <td>Quantity Ordered</td>\n",
       "      <td>Price Each</td>\n",
       "      <td>Order Date</td>\n",
       "      <td>Purchase Address</td>\n",
       "      <td>Or</td>\n",
       "    </tr>\n",
       "    <tr>\n",
       "      <th>184012</th>\n",
       "      <td>Order ID</td>\n",
       "      <td>Product</td>\n",
       "      <td>Quantity Ordered</td>\n",
       "      <td>Price Each</td>\n",
       "      <td>Order Date</td>\n",
       "      <td>Purchase Address</td>\n",
       "      <td>Or</td>\n",
       "    </tr>\n",
       "    <tr>\n",
       "      <th>184041</th>\n",
       "      <td>Order ID</td>\n",
       "      <td>Product</td>\n",
       "      <td>Quantity Ordered</td>\n",
       "      <td>Price Each</td>\n",
       "      <td>Order Date</td>\n",
       "      <td>Purchase Address</td>\n",
       "      <td>Or</td>\n",
       "    </tr>\n",
       "    <tr>\n",
       "      <th>184275</th>\n",
       "      <td>Order ID</td>\n",
       "      <td>Product</td>\n",
       "      <td>Quantity Ordered</td>\n",
       "      <td>Price Each</td>\n",
       "      <td>Order Date</td>\n",
       "      <td>Purchase Address</td>\n",
       "      <td>Or</td>\n",
       "    </tr>\n",
       "    <tr>\n",
       "      <th>186532</th>\n",
       "      <td>Order ID</td>\n",
       "      <td>Product</td>\n",
       "      <td>Quantity Ordered</td>\n",
       "      <td>Price Each</td>\n",
       "      <td>Order Date</td>\n",
       "      <td>Purchase Address</td>\n",
       "      <td>Or</td>\n",
       "    </tr>\n",
       "  </tbody>\n",
       "</table>\n",
       "<p>355 rows × 7 columns</p>\n",
       "</div>"
      ],
      "text/plain": [
       "        Order ID  Product  Quantity Ordered  Price Each  Order Date  \\\n",
       "254     Order ID  Product  Quantity Ordered  Price Each  Order Date   \n",
       "705     Order ID  Product  Quantity Ordered  Price Each  Order Date   \n",
       "1101    Order ID  Product  Quantity Ordered  Price Each  Order Date   \n",
       "2875    Order ID  Product  Quantity Ordered  Price Each  Order Date   \n",
       "3708    Order ID  Product  Quantity Ordered  Price Each  Order Date   \n",
       "...          ...      ...               ...         ...         ...   \n",
       "183671  Order ID  Product  Quantity Ordered  Price Each  Order Date   \n",
       "184012  Order ID  Product  Quantity Ordered  Price Each  Order Date   \n",
       "184041  Order ID  Product  Quantity Ordered  Price Each  Order Date   \n",
       "184275  Order ID  Product  Quantity Ordered  Price Each  Order Date   \n",
       "186532  Order ID  Product  Quantity Ordered  Price Each  Order Date   \n",
       "\n",
       "        Purchase Address Order_Month  \n",
       "254     Purchase Address          Or  \n",
       "705     Purchase Address          Or  \n",
       "1101    Purchase Address          Or  \n",
       "2875    Purchase Address          Or  \n",
       "3708    Purchase Address          Or  \n",
       "...                  ...         ...  \n",
       "183671  Purchase Address          Or  \n",
       "184012  Purchase Address          Or  \n",
       "184041  Purchase Address          Or  \n",
       "184275  Purchase Address          Or  \n",
       "186532  Purchase Address          Or  \n",
       "\n",
       "[355 rows x 7 columns]"
      ]
     },
     "execution_count": 137,
     "metadata": {},
     "output_type": "execute_result"
    }
   ],
   "source": [
    "master_df[~master_df['Order_Month'].str.isnumeric()]"
   ]
  },
  {
   "cell_type": "code",
   "execution_count": 138,
   "id": "68ab94f5-2874-4158-b0e7-12436f470652",
   "metadata": {},
   "outputs": [],
   "source": [
    "master_df = master_df[master_df['Order_Month'].str.isnumeric()]"
   ]
  },
  {
   "cell_type": "code",
   "execution_count": 139,
   "id": "917241db-4011-4aaf-940c-ed35333317fe",
   "metadata": {},
   "outputs": [],
   "source": [
    "master_df['Order_Month'] = master_df['Order_Month'].astype('int')"
   ]
  },
  {
   "cell_type": "code",
   "execution_count": 140,
   "id": "9c53e8d8-b8de-48b9-b1a4-a6413ca02f8d",
   "metadata": {},
   "outputs": [
    {
     "data": {
      "text/plain": [
       "Order ID            object\n",
       "Product             object\n",
       "Quantity Ordered    object\n",
       "Price Each          object\n",
       "Order Date          object\n",
       "Purchase Address    object\n",
       "Order_Month          int64\n",
       "dtype: object"
      ]
     },
     "execution_count": 140,
     "metadata": {},
     "output_type": "execute_result"
    }
   ],
   "source": [
    "master_df.dtypes"
   ]
  },
  {
   "cell_type": "markdown",
   "id": "0c59f690-2f82-45c5-b083-e74eab1dab1b",
   "metadata": {},
   "source": [
    "#### Handling NaN values and correcting datatypes "
   ]
  },
  {
   "cell_type": "code",
   "execution_count": 141,
   "id": "7775f80e-ad6d-401b-910a-aaf9415f0eca",
   "metadata": {},
   "outputs": [],
   "source": [
    "master_df = master_df.dropna(how='all')"
   ]
  },
  {
   "cell_type": "code",
   "execution_count": 142,
   "id": "cc3a3c18-2d66-4573-9a7b-76ca40132540",
   "metadata": {},
   "outputs": [
    {
     "data": {
      "text/plain": [
       "Order ID            False\n",
       "Product             False\n",
       "Quantity Ordered    False\n",
       "Price Each          False\n",
       "Order Date          False\n",
       "Purchase Address    False\n",
       "Order_Month         False\n",
       "dtype: bool"
      ]
     },
     "execution_count": 142,
     "metadata": {},
     "output_type": "execute_result"
    }
   ],
   "source": [
    "master_df.isnull().any()"
   ]
  },
  {
   "cell_type": "code",
   "execution_count": 143,
   "id": "29e4e1f6-2f4b-4666-8109-08025ce63a31",
   "metadata": {},
   "outputs": [],
   "source": [
    "master_df = master_df.astype({'Quantity Ordered':'int','Price Each':'float'})"
   ]
  },
  {
   "cell_type": "code",
   "execution_count": 144,
   "id": "7d5d231e-8804-4789-8474-cbdee2a53d3b",
   "metadata": {},
   "outputs": [
    {
     "data": {
      "text/plain": [
       "Order ID             object\n",
       "Product              object\n",
       "Quantity Ordered      int64\n",
       "Price Each          float64\n",
       "Order Date           object\n",
       "Purchase Address     object\n",
       "Order_Month           int64\n",
       "dtype: object"
      ]
     },
     "execution_count": 144,
     "metadata": {},
     "output_type": "execute_result"
    }
   ],
   "source": [
    "master_df.dtypes"
   ]
  },
  {
   "cell_type": "code",
   "execution_count": 145,
   "id": "5818ab41-48c0-4878-954f-7352abb0f8bb",
   "metadata": {},
   "outputs": [],
   "source": [
    "master_df['Total_Sales'] = master_df['Quantity Ordered']*master_df['Price Each']"
   ]
  },
  {
   "cell_type": "markdown",
   "id": "63d23427-ab06-4700-95c7-74214723ced6",
   "metadata": {},
   "source": [
    "#### Question1: What was the best month for sales? How much was the sales that month?"
   ]
  },
  {
   "cell_type": "code",
   "execution_count": 146,
   "id": "2df26075-0b7c-4f16-9e53-9e8916be82e6",
   "metadata": {},
   "outputs": [
    {
     "data": {
      "text/html": [
       "<div>\n",
       "<style scoped>\n",
       "    .dataframe tbody tr th:only-of-type {\n",
       "        vertical-align: middle;\n",
       "    }\n",
       "\n",
       "    .dataframe tbody tr th {\n",
       "        vertical-align: top;\n",
       "    }\n",
       "\n",
       "    .dataframe thead th {\n",
       "        text-align: right;\n",
       "    }\n",
       "</style>\n",
       "<table border=\"1\" class=\"dataframe\">\n",
       "  <thead>\n",
       "    <tr style=\"text-align: right;\">\n",
       "      <th></th>\n",
       "      <th>Order_Month</th>\n",
       "      <th>Total_Sales</th>\n",
       "    </tr>\n",
       "  </thead>\n",
       "  <tbody>\n",
       "    <tr>\n",
       "      <th>11</th>\n",
       "      <td>12</td>\n",
       "      <td>4613443.34</td>\n",
       "    </tr>\n",
       "    <tr>\n",
       "      <th>9</th>\n",
       "      <td>10</td>\n",
       "      <td>3736726.88</td>\n",
       "    </tr>\n",
       "    <tr>\n",
       "      <th>3</th>\n",
       "      <td>4</td>\n",
       "      <td>3390670.24</td>\n",
       "    </tr>\n",
       "    <tr>\n",
       "      <th>10</th>\n",
       "      <td>11</td>\n",
       "      <td>3199603.20</td>\n",
       "    </tr>\n",
       "    <tr>\n",
       "      <th>4</th>\n",
       "      <td>5</td>\n",
       "      <td>3152606.75</td>\n",
       "    </tr>\n",
       "    <tr>\n",
       "      <th>2</th>\n",
       "      <td>3</td>\n",
       "      <td>2807100.38</td>\n",
       "    </tr>\n",
       "    <tr>\n",
       "      <th>6</th>\n",
       "      <td>7</td>\n",
       "      <td>2647775.76</td>\n",
       "    </tr>\n",
       "    <tr>\n",
       "      <th>5</th>\n",
       "      <td>6</td>\n",
       "      <td>2577802.26</td>\n",
       "    </tr>\n",
       "    <tr>\n",
       "      <th>7</th>\n",
       "      <td>8</td>\n",
       "      <td>2244467.88</td>\n",
       "    </tr>\n",
       "    <tr>\n",
       "      <th>1</th>\n",
       "      <td>2</td>\n",
       "      <td>2202022.42</td>\n",
       "    </tr>\n",
       "    <tr>\n",
       "      <th>8</th>\n",
       "      <td>9</td>\n",
       "      <td>2097560.13</td>\n",
       "    </tr>\n",
       "    <tr>\n",
       "      <th>0</th>\n",
       "      <td>1</td>\n",
       "      <td>1822256.73</td>\n",
       "    </tr>\n",
       "  </tbody>\n",
       "</table>\n",
       "</div>"
      ],
      "text/plain": [
       "    Order_Month  Total_Sales\n",
       "11           12   4613443.34\n",
       "9            10   3736726.88\n",
       "3             4   3390670.24\n",
       "10           11   3199603.20\n",
       "4             5   3152606.75\n",
       "2             3   2807100.38\n",
       "6             7   2647775.76\n",
       "5             6   2577802.26\n",
       "7             8   2244467.88\n",
       "1             2   2202022.42\n",
       "8             9   2097560.13\n",
       "0             1   1822256.73"
      ]
     },
     "execution_count": 146,
     "metadata": {},
     "output_type": "execute_result"
    }
   ],
   "source": [
    "master_df.groupby('Order_Month')['Total_Sales'].sum().reset_index().sort_values(by='Total_Sales',ascending=False)"
   ]
  },
  {
   "cell_type": "code",
   "execution_count": 147,
   "id": "0ddd077f-189a-494b-8260-63de783f964b",
   "metadata": {},
   "outputs": [],
   "source": [
    "sales_by_month = master_df.groupby('Order_Month').sum()"
   ]
  },
  {
   "cell_type": "code",
   "execution_count": 148,
   "id": "85dd3319-a843-4534-9134-6c18dacc126a",
   "metadata": {},
   "outputs": [
    {
     "data": {
      "image/png": "[encoded data removed]",
      "text/plain": [
       "<Figure size 640x480 with 1 Axes>"
      ]
     },
     "metadata": {},
     "output_type": "display_data"
    }
   ],
   "source": [
    "# Get month names for the x-axis\n",
    "month_names = [calendar.month_name[i] for i in range(1, 13)]\n",
    "\n",
    "# Plot the bar chart\n",
    "x = range(1, 13)  # Months as numbers\n",
    "plt.bar(x, sales_by_month['Total_Sales'])\n",
    "plt.xticks(x, month_names, rotation=45)  # Set x-axis labels to month names\n",
    "plt.ylabel('Sales in million USD($)')\n",
    "plt.xlabel('Month')\n",
    "plt.title('Monthly Sales')\n",
    "plt.show()"
   ]
  },
  {
   "cell_type": "markdown",
   "id": "ad0eabc0-81f2-45f7-a53c-25dc4e0fe622",
   "metadata": {},
   "source": [
    "#### December had the highest sales with $4613443.34"
   ]
  },
  {
   "cell_type": "markdown",
   "id": "56d26614-ced6-4f6f-b521-497ecccc0594",
   "metadata": {},
   "source": [
    "#### Question2:Which city had the highest sales?"
   ]
  },
  {
   "cell_type": "code",
   "execution_count": 149,
   "id": "e79208d6-d2b6-4f6a-aedb-9b80958dd1a5",
   "metadata": {},
   "outputs": [
    {
     "data": {
      "text/html": [
       "<div>\n",
       "<style scoped>\n",
       "    .dataframe tbody tr th:only-of-type {\n",
       "        vertical-align: middle;\n",
       "    }\n",
       "\n",
       "    .dataframe tbody tr th {\n",
       "        vertical-align: top;\n",
       "    }\n",
       "\n",
       "    .dataframe thead th {\n",
       "        text-align: right;\n",
       "    }\n",
       "</style>\n",
       "<table border=\"1\" class=\"dataframe\">\n",
       "  <thead>\n",
       "    <tr style=\"text-align: right;\">\n",
       "      <th></th>\n",
       "      <th>Order ID</th>\n",
       "      <th>Product</th>\n",
       "      <th>Quantity Ordered</th>\n",
       "      <th>Price Each</th>\n",
       "      <th>Order Date</th>\n",
       "      <th>Purchase Address</th>\n",
       "      <th>Order_Month</th>\n",
       "      <th>Total_Sales</th>\n",
       "    </tr>\n",
       "  </thead>\n",
       "  <tbody>\n",
       "    <tr>\n",
       "      <th>0</th>\n",
       "      <td>295665</td>\n",
       "      <td>Macbook Pro Laptop</td>\n",
       "      <td>1</td>\n",
       "      <td>1700.00</td>\n",
       "      <td>12/30/19 00:01</td>\n",
       "      <td>136 Church St, New York City, NY 10001</td>\n",
       "      <td>12</td>\n",
       "      <td>1700.00</td>\n",
       "    </tr>\n",
       "    <tr>\n",
       "      <th>1</th>\n",
       "      <td>295666</td>\n",
       "      <td>LG Washing Machine</td>\n",
       "      <td>1</td>\n",
       "      <td>600.00</td>\n",
       "      <td>12/29/19 07:03</td>\n",
       "      <td>562 2nd St, New York City, NY 10001</td>\n",
       "      <td>12</td>\n",
       "      <td>600.00</td>\n",
       "    </tr>\n",
       "    <tr>\n",
       "      <th>2</th>\n",
       "      <td>295667</td>\n",
       "      <td>USB-C Charging Cable</td>\n",
       "      <td>1</td>\n",
       "      <td>11.95</td>\n",
       "      <td>12/12/19 18:21</td>\n",
       "      <td>277 Main St, New York City, NY 10001</td>\n",
       "      <td>12</td>\n",
       "      <td>11.95</td>\n",
       "    </tr>\n",
       "    <tr>\n",
       "      <th>3</th>\n",
       "      <td>295668</td>\n",
       "      <td>27in FHD Monitor</td>\n",
       "      <td>1</td>\n",
       "      <td>149.99</td>\n",
       "      <td>12/22/19 15:13</td>\n",
       "      <td>410 6th St, San Francisco, CA 94016</td>\n",
       "      <td>12</td>\n",
       "      <td>149.99</td>\n",
       "    </tr>\n",
       "    <tr>\n",
       "      <th>4</th>\n",
       "      <td>295669</td>\n",
       "      <td>USB-C Charging Cable</td>\n",
       "      <td>1</td>\n",
       "      <td>11.95</td>\n",
       "      <td>12/18/19 12:38</td>\n",
       "      <td>43 Hill St, Atlanta, GA 30301</td>\n",
       "      <td>12</td>\n",
       "      <td>11.95</td>\n",
       "    </tr>\n",
       "  </tbody>\n",
       "</table>\n",
       "</div>"
      ],
      "text/plain": [
       "  Order ID               Product  Quantity Ordered  Price Each  \\\n",
       "0   295665    Macbook Pro Laptop                 1     1700.00   \n",
       "1   295666    LG Washing Machine                 1      600.00   \n",
       "2   295667  USB-C Charging Cable                 1       11.95   \n",
       "3   295668      27in FHD Monitor                 1      149.99   \n",
       "4   295669  USB-C Charging Cable                 1       11.95   \n",
       "\n",
       "       Order Date                        Purchase Address  Order_Month  \\\n",
       "0  12/30/19 00:01  136 Church St, New York City, NY 10001           12   \n",
       "1  12/29/19 07:03     562 2nd St, New York City, NY 10001           12   \n",
       "2  12/12/19 18:21    277 Main St, New York City, NY 10001           12   \n",
       "3  12/22/19 15:13     410 6th St, San Francisco, CA 94016           12   \n",
       "4  12/18/19 12:38           43 Hill St, Atlanta, GA 30301           12   \n",
       "\n",
       "   Total_Sales  \n",
       "0      1700.00  \n",
       "1       600.00  \n",
       "2        11.95  \n",
       "3       149.99  \n",
       "4        11.95  "
      ]
     },
     "execution_count": 149,
     "metadata": {},
     "output_type": "execute_result"
    }
   ],
   "source": [
    "master_df.head()"
   ]
  },
  {
   "cell_type": "code",
   "execution_count": 150,
   "id": "d20c9c6c-6b8c-4d79-8b8c-04d81517e4e3",
   "metadata": {},
   "outputs": [
    {
     "data": {
      "text/plain": [
       "0         New York City (NY)\n",
       "1         New York City (NY)\n",
       "2         New York City (NY)\n",
       "3         San Francisco (CA)\n",
       "4               Atlanta (GA)\n",
       "                 ...        \n",
       "186845           Boston (MA)\n",
       "186846    New York City (NY)\n",
       "186847    San Francisco (CA)\n",
       "186848    San Francisco (CA)\n",
       "186849          Atlanta (GA)\n",
       "Name: Purchase Address, Length: 185950, dtype: object"
      ]
     },
     "execution_count": 150,
     "metadata": {},
     "output_type": "execute_result"
    }
   ],
   "source": [
    "master_df['Purchase Address'].str.split(',').apply(lambda x: f\"{x[1].strip()} ({x[2].split()[0]})\")"
   ]
  },
  {
   "cell_type": "code",
   "execution_count": 227,
   "id": "f503484c-28c9-4e66-be97-3c4d2e3be419",
   "metadata": {},
   "outputs": [],
   "source": [
    "# Creating new 'City' column\n",
    "master_df['City'] = master_df['Purchase Address'].str.split(',').apply(lambda x: f\"{x[1].strip()} ({x[2].split()[0]})\")"
   ]
  },
  {
   "cell_type": "code",
   "execution_count": 226,
   "id": "64b34836-e4d6-4376-8fb6-129d52e70302",
   "metadata": {},
   "outputs": [
    {
     "data": {
      "text/html": [
       "<div>\n",
       "<style scoped>\n",
       "    .dataframe tbody tr th:only-of-type {\n",
       "        vertical-align: middle;\n",
       "    }\n",
       "\n",
       "    .dataframe tbody tr th {\n",
       "        vertical-align: top;\n",
       "    }\n",
       "\n",
       "    .dataframe thead th {\n",
       "        text-align: right;\n",
       "    }\n",
       "</style>\n",
       "<table border=\"1\" class=\"dataframe\">\n",
       "  <thead>\n",
       "    <tr style=\"text-align: right;\">\n",
       "      <th></th>\n",
       "      <th>City</th>\n",
       "      <th>Total_Sales</th>\n",
       "    </tr>\n",
       "  </thead>\n",
       "  <tbody>\n",
       "    <tr>\n",
       "      <th>8</th>\n",
       "      <td>San Francisco (CA)</td>\n",
       "      <td>8262203.91</td>\n",
       "    </tr>\n",
       "    <tr>\n",
       "      <th>4</th>\n",
       "      <td>Los Angeles (CA)</td>\n",
       "      <td>5452570.80</td>\n",
       "    </tr>\n",
       "    <tr>\n",
       "      <th>5</th>\n",
       "      <td>New York City (NY)</td>\n",
       "      <td>4664317.43</td>\n",
       "    </tr>\n",
       "    <tr>\n",
       "      <th>2</th>\n",
       "      <td>Boston (MA)</td>\n",
       "      <td>3661642.01</td>\n",
       "    </tr>\n",
       "    <tr>\n",
       "      <th>0</th>\n",
       "      <td>Atlanta (GA)</td>\n",
       "      <td>2795498.58</td>\n",
       "    </tr>\n",
       "    <tr>\n",
       "      <th>3</th>\n",
       "      <td>Dallas (TX)</td>\n",
       "      <td>2767975.40</td>\n",
       "    </tr>\n",
       "    <tr>\n",
       "      <th>9</th>\n",
       "      <td>Seattle (WA)</td>\n",
       "      <td>2747755.48</td>\n",
       "    </tr>\n",
       "    <tr>\n",
       "      <th>7</th>\n",
       "      <td>Portland (OR)</td>\n",
       "      <td>1870732.34</td>\n",
       "    </tr>\n",
       "    <tr>\n",
       "      <th>1</th>\n",
       "      <td>Austin (TX)</td>\n",
       "      <td>1819581.75</td>\n",
       "    </tr>\n",
       "    <tr>\n",
       "      <th>6</th>\n",
       "      <td>Portland (ME)</td>\n",
       "      <td>449758.27</td>\n",
       "    </tr>\n",
       "  </tbody>\n",
       "</table>\n",
       "</div>"
      ],
      "text/plain": [
       "                 City  Total_Sales\n",
       "8  San Francisco (CA)   8262203.91\n",
       "4    Los Angeles (CA)   5452570.80\n",
       "5  New York City (NY)   4664317.43\n",
       "2         Boston (MA)   3661642.01\n",
       "0        Atlanta (GA)   2795498.58\n",
       "3         Dallas (TX)   2767975.40\n",
       "9        Seattle (WA)   2747755.48\n",
       "7       Portland (OR)   1870732.34\n",
       "1         Austin (TX)   1819581.75\n",
       "6       Portland (ME)    449758.27"
      ]
     },
     "execution_count": 226,
     "metadata": {},
     "output_type": "execute_result"
    }
   ],
   "source": [
    "# Calculation Sales for each city and sorting in descending order\n",
    "sales_per_city = master_df.groupby('City')['Total_Sales'].sum().reset_index()\n",
    "sales_per_city.sort_values(by = 'Total_Sales', ascending=False)"
   ]
  },
  {
   "cell_type": "markdown",
   "id": "66f2b9be-2bf5-45c8-9aca-88bb57f677ec",
   "metadata": {},
   "source": [
    "##### San Francisco has the highest sales with $8262203.91"
   ]
  },
  {
   "cell_type": "code",
   "execution_count": 154,
   "id": "fefcd983-92e3-4ae9-b6b8-08a0631fc8ec",
   "metadata": {},
   "outputs": [
    {
     "data": {
      "image/png": "[encoded data removed]",
      "text/plain": [
       "<Figure size 640x480 with 1 Axes>"
      ]
     },
     "metadata": {},
     "output_type": "display_data"
    }
   ],
   "source": [
    "plt.bar(sales_per_city['City'], sales_per_city['Total_Sales'])\n",
    "plt.xlabel('City', size=12)\n",
    "plt.ylabel('Total Sales in million USD($)')\n",
    "plt.title('Total Sales per City')\n",
    "plt.xticks(rotation='vertical', size=10)\n",
    "plt.show()"
   ]
  },
  {
   "cell_type": "markdown",
   "id": "33877863-c0ac-45f2-a063-aa6f2514c61f",
   "metadata": {},
   "source": [
    "#### Question3: What time should we display advertisements to maximize likelihood of customer's buying products?"
   ]
  },
  {
   "cell_type": "code",
   "execution_count": 228,
   "id": "99eac18f-86be-4f56-86a9-58dc4112c61e",
   "metadata": {},
   "outputs": [],
   "source": [
    "# Standardizing Order Date column\n",
    "master_df['Order Date'] = pd.to_datetime(master_df['Order Date'], format='%Y-%m-%d %H:%M:%S')"
   ]
  },
  {
   "cell_type": "code",
   "execution_count": 229,
   "id": "504744fa-cf54-4575-9277-36b74e039865",
   "metadata": {},
   "outputs": [],
   "source": [
    "# Creating new 'Hour' column to help figure out the best time during the day for displaying advertisements\n",
    "master_df['Hour'] = master_df['Order Date'].dt.hour"
   ]
  },
  {
   "cell_type": "code",
   "execution_count": 164,
   "id": "6063be04-f5ff-4165-9bf9-950c0b8ce3ce",
   "metadata": {},
   "outputs": [
    {
     "data": {
      "image/png": "[encoded data removed]",
      "text/plain": [
       "<Figure size 640x480 with 1 Axes>"
      ]
     },
     "metadata": {},
     "output_type": "display_data"
    }
   ],
   "source": [
    "hours = [hour for hour, master_df in master_df.groupby('Hour')]\n",
    "plt.plot(hours, master_df.groupby(['Hour']).count(), color='blue')\n",
    "plt.xticks(hours)\n",
    "plt.xlabel('Hour')\n",
    "plt.ylabel('Frequency')\n",
    "plt.title('Hourly Sales Frequency ')\n",
    "plt.grid()\n",
    "plt.show()"
   ]
  },
  {
   "cell_type": "markdown",
   "id": "a7981f4e-30b4-4bca-be81-464d9fb8665e",
   "metadata": {},
   "source": [
    "#### Advertisements should be targeted between 10 AM to 12 PM to catch the buildup to peak sales at noon.\n",
    "#### A second window for advertisements should be between 5 PM to 7 PM to leverage the evening peak."
   ]
  },
  {
   "cell_type": "code",
   "execution_count": 165,
   "id": "be9e726b-6b61-49c8-92c1-1b4a079c4ff3",
   "metadata": {},
   "outputs": [],
   "source": [
    "# Filter for Viewing Sales for a particular City\n",
    "# ny_df = master_df[master_df['City' == 'New York City (NY)']]\n",
    "# plt.plot(hours, ny_df.groupby(['Hour']).count(), color='blue')\n",
    "# plt.xticks(hours)\n",
    "# plt.xlabel('Hour')\n",
    "# plt.ylabel('Frequency')\n",
    "# plt.title('Hourly Sales Frequency ')\n",
    "# plt.grid()\n",
    "# plt.show()"
   ]
  },
  {
   "cell_type": "code",
   "execution_count": 166,
   "id": "76a3bdfa-eb33-4b28-816f-f344cfbfcd80",
   "metadata": {},
   "outputs": [],
   "source": [
    "# Filter for Viewing Sales for a particular State\n",
    "# master_df['State'] = master_df['City'].str.extract(r'\\(([^)]+)\\)')\n",
    "# master_df.head()\n",
    "# california_state_df = master_df[master_df['State']=='CA']\n",
    "# california_state_df.head()\n",
    "# plt.plot(hours, california_state_df.groupby(['Hour']).count(), color='blue')\n",
    "# plt.xticks(hours)\n",
    "# plt.xlabel('Hour')\n",
    "# plt.ylabel('Frequency')\n",
    "# plt.title('Hourly Sales Frequency in California')\n",
    "# plt.grid()\n",
    "# plt.show()\n",
    "# df = df.drop(columns = 'State')"
   ]
  },
  {
   "cell_type": "markdown",
   "id": "0aebf99f-1271-489f-b96d-efbe126c3fa6",
   "metadata": {},
   "source": [
    "#### Question4: What products are often sold together?"
   ]
  },
  {
   "cell_type": "code",
   "execution_count": 230,
   "id": "89c2c40c-e41c-4afc-8ee8-92d432736267",
   "metadata": {},
   "outputs": [
    {
     "name": "stderr",
     "output_type": "stream",
     "text": [
      "/var/folders/yr/cj7k88856rd57cfjp28z6rx40000gn/T/ipykernel_1236/4098647469.py:3: SettingWithCopyWarning: \n",
      "A value is trying to be set on a copy of a slice from a DataFrame.\n",
      "Try using .loc[row_indexer,col_indexer] = value instead\n",
      "\n",
      "See the caveats in the documentation: https://pandas.pydata.org/pandas-docs/stable/user_guide/indexing.html#returning-a-view-versus-a-copy\n",
      "  st_df['Purchased_Together'] = master_df.groupby('Order ID')['Product'].transform(lambda x: ','.join(x))\n"
     ]
    },
    {
     "data": {
      "text/html": [
       "<div>\n",
       "<style scoped>\n",
       "    .dataframe tbody tr th:only-of-type {\n",
       "        vertical-align: middle;\n",
       "    }\n",
       "\n",
       "    .dataframe tbody tr th {\n",
       "        vertical-align: top;\n",
       "    }\n",
       "\n",
       "    .dataframe thead th {\n",
       "        text-align: right;\n",
       "    }\n",
       "</style>\n",
       "<table border=\"1\" class=\"dataframe\">\n",
       "  <thead>\n",
       "    <tr style=\"text-align: right;\">\n",
       "      <th></th>\n",
       "      <th>Order ID</th>\n",
       "      <th>Purchased_Together</th>\n",
       "    </tr>\n",
       "  </thead>\n",
       "  <tbody>\n",
       "    <tr>\n",
       "      <th>16</th>\n",
       "      <td>295681</td>\n",
       "      <td>Google Phone,USB-C Charging Cable,Bose SoundSp...</td>\n",
       "    </tr>\n",
       "    <tr>\n",
       "      <th>36</th>\n",
       "      <td>295698</td>\n",
       "      <td>Vareebadd Phone,USB-C Charging Cable</td>\n",
       "    </tr>\n",
       "    <tr>\n",
       "      <th>42</th>\n",
       "      <td>295703</td>\n",
       "      <td>AA Batteries (4-pack),Bose SoundSport Headphones</td>\n",
       "    </tr>\n",
       "    <tr>\n",
       "      <th>66</th>\n",
       "      <td>295726</td>\n",
       "      <td>iPhone,Lightning Charging Cable</td>\n",
       "    </tr>\n",
       "    <tr>\n",
       "      <th>76</th>\n",
       "      <td>295735</td>\n",
       "      <td>iPhone,Apple Airpods Headphones,Wired Headphones</td>\n",
       "    </tr>\n",
       "  </tbody>\n",
       "</table>\n",
       "</div>"
      ],
      "text/plain": [
       "   Order ID                                 Purchased_Together\n",
       "16   295681  Google Phone,USB-C Charging Cable,Bose SoundSp...\n",
       "36   295698               Vareebadd Phone,USB-C Charging Cable\n",
       "42   295703   AA Batteries (4-pack),Bose SoundSport Headphones\n",
       "66   295726                    iPhone,Lightning Charging Cable\n",
       "76   295735   iPhone,Apple Airpods Headphones,Wired Headphones"
      ]
     },
     "execution_count": 230,
     "metadata": {},
     "output_type": "execute_result"
    }
   ],
   "source": [
    "# Eliminating duplicates and grouping products sold together\n",
    "st_df = master_df[master_df['Order ID'].duplicated(keep=False)]\n",
    "st_df['Purchased_Together'] = master_df.groupby('Order ID')['Product'].transform(lambda x: ','.join(x))\n",
    "st_df = st_df[['Order ID', 'Purchased_Together']].drop_duplicates()\n",
    "st_df.head()"
   ]
  },
  {
   "cell_type": "code",
   "execution_count": 231,
   "id": "f31e78ba-81fd-4552-a7c8-9b1ca806eed0",
   "metadata": {},
   "outputs": [
    {
     "name": "stdout",
     "output_type": "stream",
     "text": [
      "('iPhone', 'Lightning Charging Cable') 1005\n",
      "('Google Phone', 'USB-C Charging Cable') 987\n",
      "('iPhone', 'Wired Headphones') 447\n",
      "('Google Phone', 'Wired Headphones') 414\n",
      "('Vareebadd Phone', 'USB-C Charging Cable') 361\n"
     ]
    }
   ],
   "source": [
    "# Displaying products purchased together and count of the same\n",
    "count = Counter()\n",
    "\n",
    "for row in st_df['Purchased_Together']:\n",
    "    ls = row.split(',')\n",
    "    count.update(Counter(combinations(ls, 2)))\n",
    "\n",
    "for key,value in count.most_common(5):\n",
    "    print(key,value)"
   ]
  },
  {
   "cell_type": "markdown",
   "id": "d324e37c-872e-4912-b8d1-c63da58c110c",
   "metadata": {},
   "source": [
    "#### Question5: Which was the most popular product? Why is that the case?"
   ]
  },
  {
   "cell_type": "code",
   "execution_count": 232,
   "id": "861c6af7-71e4-47cc-9511-75d71565cbb5",
   "metadata": {},
   "outputs": [
    {
     "data": {
      "text/html": [
       "<div>\n",
       "<style scoped>\n",
       "    .dataframe tbody tr th:only-of-type {\n",
       "        vertical-align: middle;\n",
       "    }\n",
       "\n",
       "    .dataframe tbody tr th {\n",
       "        vertical-align: top;\n",
       "    }\n",
       "\n",
       "    .dataframe thead th {\n",
       "        text-align: right;\n",
       "    }\n",
       "</style>\n",
       "<table border=\"1\" class=\"dataframe\">\n",
       "  <thead>\n",
       "    <tr style=\"text-align: right;\">\n",
       "      <th></th>\n",
       "      <th>Product</th>\n",
       "      <th>Quantity Ordered</th>\n",
       "    </tr>\n",
       "  </thead>\n",
       "  <tbody>\n",
       "    <tr>\n",
       "      <th>5</th>\n",
       "      <td>AAA Batteries (4-pack)</td>\n",
       "      <td>31017</td>\n",
       "    </tr>\n",
       "    <tr>\n",
       "      <th>4</th>\n",
       "      <td>AA Batteries (4-pack)</td>\n",
       "      <td>27635</td>\n",
       "    </tr>\n",
       "    <tr>\n",
       "      <th>15</th>\n",
       "      <td>USB-C Charging Cable</td>\n",
       "      <td>23975</td>\n",
       "    </tr>\n",
       "    <tr>\n",
       "      <th>12</th>\n",
       "      <td>Lightning Charging Cable</td>\n",
       "      <td>23217</td>\n",
       "    </tr>\n",
       "    <tr>\n",
       "      <th>17</th>\n",
       "      <td>Wired Headphones</td>\n",
       "      <td>20557</td>\n",
       "    </tr>\n",
       "    <tr>\n",
       "      <th>6</th>\n",
       "      <td>Apple Airpods Headphones</td>\n",
       "      <td>15661</td>\n",
       "    </tr>\n",
       "    <tr>\n",
       "      <th>7</th>\n",
       "      <td>Bose SoundSport Headphones</td>\n",
       "      <td>13457</td>\n",
       "    </tr>\n",
       "    <tr>\n",
       "      <th>2</th>\n",
       "      <td>27in FHD Monitor</td>\n",
       "      <td>7550</td>\n",
       "    </tr>\n",
       "    <tr>\n",
       "      <th>18</th>\n",
       "      <td>iPhone</td>\n",
       "      <td>6849</td>\n",
       "    </tr>\n",
       "    <tr>\n",
       "      <th>1</th>\n",
       "      <td>27in 4K Gaming Monitor</td>\n",
       "      <td>6244</td>\n",
       "    </tr>\n",
       "    <tr>\n",
       "      <th>3</th>\n",
       "      <td>34in Ultrawide Monitor</td>\n",
       "      <td>6199</td>\n",
       "    </tr>\n",
       "    <tr>\n",
       "      <th>9</th>\n",
       "      <td>Google Phone</td>\n",
       "      <td>5532</td>\n",
       "    </tr>\n",
       "    <tr>\n",
       "      <th>8</th>\n",
       "      <td>Flatscreen TV</td>\n",
       "      <td>4819</td>\n",
       "    </tr>\n",
       "    <tr>\n",
       "      <th>13</th>\n",
       "      <td>Macbook Pro Laptop</td>\n",
       "      <td>4728</td>\n",
       "    </tr>\n",
       "    <tr>\n",
       "      <th>14</th>\n",
       "      <td>ThinkPad Laptop</td>\n",
       "      <td>4130</td>\n",
       "    </tr>\n",
       "    <tr>\n",
       "      <th>0</th>\n",
       "      <td>20in Monitor</td>\n",
       "      <td>4129</td>\n",
       "    </tr>\n",
       "    <tr>\n",
       "      <th>16</th>\n",
       "      <td>Vareebadd Phone</td>\n",
       "      <td>2068</td>\n",
       "    </tr>\n",
       "    <tr>\n",
       "      <th>11</th>\n",
       "      <td>LG Washing Machine</td>\n",
       "      <td>666</td>\n",
       "    </tr>\n",
       "    <tr>\n",
       "      <th>10</th>\n",
       "      <td>LG Dryer</td>\n",
       "      <td>646</td>\n",
       "    </tr>\n",
       "  </tbody>\n",
       "</table>\n",
       "</div>"
      ],
      "text/plain": [
       "                       Product  Quantity Ordered\n",
       "5       AAA Batteries (4-pack)             31017\n",
       "4        AA Batteries (4-pack)             27635\n",
       "15        USB-C Charging Cable             23975\n",
       "12    Lightning Charging Cable             23217\n",
       "17            Wired Headphones             20557\n",
       "6     Apple Airpods Headphones             15661\n",
       "7   Bose SoundSport Headphones             13457\n",
       "2             27in FHD Monitor              7550\n",
       "18                      iPhone              6849\n",
       "1       27in 4K Gaming Monitor              6244\n",
       "3       34in Ultrawide Monitor              6199\n",
       "9                 Google Phone              5532\n",
       "8                Flatscreen TV              4819\n",
       "13          Macbook Pro Laptop              4728\n",
       "14             ThinkPad Laptop              4130\n",
       "0                 20in Monitor              4129\n",
       "16             Vareebadd Phone              2068\n",
       "11          LG Washing Machine               666\n",
       "10                    LG Dryer               646"
      ]
     },
     "execution_count": 232,
     "metadata": {},
     "output_type": "execute_result"
    }
   ],
   "source": [
    "# Grouping products based on popularity\n",
    "product_demand = master_df.groupby('Product')['Quantity Ordered'].sum().reset_index()\n",
    "product_demand.sort_values(by='Quantity Ordered',ascending=False)"
   ]
  },
  {
   "cell_type": "code",
   "execution_count": 233,
   "id": "a886eba8-6dc8-4856-bf58-529a8dec53bd",
   "metadata": {},
   "outputs": [],
   "source": [
    "# If there are more than one product with the same demand\n",
    "#most_popular = product_demand['Quantity Ordered'].max()\n",
    "#most_popular_products = product_demand[product_demand['Quantity Ordered'] == most_popular]\n",
    "#print(most_popular_products)"
   ]
  },
  {
   "cell_type": "code",
   "execution_count": 235,
   "id": "5824b4d3-51eb-4a69-b2b7-fa9e751699eb",
   "metadata": {},
   "outputs": [
    {
     "data": {
      "image/png": "[encoded data removed]",
      "text/plain": [
       "<Figure size 640x480 with 1 Axes>"
      ]
     },
     "metadata": {},
     "output_type": "display_data"
    }
   ],
   "source": [
    "plt.bar(product_demand['Product'], product_demand['Quantity Ordered'], color='blue')\n",
    "plt.xlabel('Product', fontsize=12)\n",
    "plt.ylabel('Quantity Ordered', fontsize=12)\n",
    "plt.title('Quantity Ordered by Product', fontsize=14)\n",
    "plt.xticks(rotation='vertical')\n",
    "plt.show()"
   ]
  },
  {
   "cell_type": "markdown",
   "id": "154455d5-cbb8-4e53-bd50-12bf17181841",
   "metadata": {},
   "source": [
    "AAA Batteries (4-pack) were ordered the most ordered i.e,31017 times"
   ]
  },
  {
   "cell_type": "markdown",
   "id": "8a6b90e4-fd49-4c6b-a943-887f6ce8259c",
   "metadata": {},
   "source": [
    "#### Hypothesis: Lower the price of the product, higher is the demand. Let's test this hypothesis by figuring out the correlation between the price of each of these products and the number of times they were ordered."
   ]
  },
  {
   "cell_type": "code",
   "execution_count": 236,
   "id": "c85bd4e0-6ad6-42e1-aca8-073e8c7de0b1",
   "metadata": {},
   "outputs": [
    {
     "data": {
      "image/png": "[encoded data removed]",
      "text/plain": [
       "<Figure size 1000x600 with 1 Axes>"
      ]
     },
     "metadata": {},
     "output_type": "display_data"
    }
   ],
   "source": [
    "# Group the data to calculate average Price Each and total Quantity Ordered\n",
    "price_quantity = master_df.groupby('Product').agg({'Price Each': 'mean', 'Quantity Ordered': 'sum'}).reset_index()\n",
    "\n",
    "# Plot a scatter plot\n",
    "plt.figure(figsize=(10, 6))\n",
    "plt.scatter(price_quantity['Price Each'], price_quantity['Quantity Ordered'], color='blue', alpha=0.7)\n",
    "\n",
    "# Add labels and title\n",
    "plt.xlabel('Price Each', fontsize=12)\n",
    "plt.ylabel('Quantity Ordered', fontsize=12)\n",
    "plt.title('Correlation Between Price and Quantity Ordered', fontsize=14)\n",
    "\n",
    "# Add product labels to the points\n",
    "for i in range(len(price_quantity)):\n",
    "    plt.text(price_quantity['Price Each'][i]+10, price_quantity['Quantity Ordered'][i]+500, \n",
    "             price_quantity['Product'][i], fontsize=8, alpha=0.7)\n",
    "\n",
    "plt.grid()\n",
    "plt.tight_layout()\n",
    "plt.show()"
   ]
  },
  {
   "cell_type": "markdown",
   "id": "12375eb3-d90d-4ca2-b822-575c963fdf7b",
   "metadata": {},
   "source": [
    "##### The above graphs states that Lower-priced products are generally sold in larger quantities. Higher-priced products see lower sales volumes."
   ]
  },
  {
   "cell_type": "markdown",
   "id": "d5b72ca9-a5ba-4ae2-9a18-7b64aedaf834",
   "metadata": {},
   "source": [
    "##### Let's check the correlation between price each and quantity ordered to determine how strong this hypothesis is."
   ]
  },
  {
   "cell_type": "code",
   "execution_count": 224,
   "id": "0f9076a6-b7bb-4a1a-9b05-85e84d244f4b",
   "metadata": {},
   "outputs": [
    {
     "data": {
      "image/png": "[encoded data removed]",
      "text/plain": [
       "<Figure size 640x480 with 2 Axes>"
      ]
     },
     "metadata": {},
     "output_type": "display_data"
    }
   ],
   "source": [
    "# Select relevant numerical columns for correlation\n",
    "correlation_data = master_df[['Price Each', 'Quantity Ordered']]\n",
    "correlation_matrix = correlation_data.corr()\n",
    "\n",
    "# Plot the heatmap\n",
    "sns.heatmap(correlation_matrix, annot=True, cmap='coolwarm', fmt=\".2f\", linewidths=0.5)\n",
    "plt.title('Correlation Between Price and Quantity Ordered', fontsize=14)\n",
    "plt.show()"
   ]
  },
  {
   "cell_type": "code",
   "execution_count": 237,
   "id": "252de14a-9d37-4254-9071-2b393079e6e2",
   "metadata": {},
   "outputs": [
    {
     "name": "stdout",
     "output_type": "stream",
     "text": [
      "The correlation coefficient between Price Each and Quantity Ordered is: -0.15\n"
     ]
    }
   ],
   "source": [
    "# Calculate the correlation coefficient between 'Price Each' and 'Quantity Ordered'\n",
    "correlation_coefficient = master_df[['Price Each', 'Quantity Ordered']].corr().iloc[0, 1]\n",
    "\n",
    "print(f\"The correlation coefficient between Price Each and Quantity Ordered is: {correlation_coefficient:.2f}\")"
   ]
  },
  {
   "cell_type": "markdown",
   "id": "dbcf1ab2-c04c-41af-a0f1-33be96f274d4",
   "metadata": {},
   "source": [
    "#### The weak negative correlation (-0.15) indicates that lower prices are associated with higher quantities sold, but the relationship is not strong.This suggests that while price plays a role in influencing demand, it is not the sole or dominant factor."
   ]
  }
 ],
 "metadata": {
  "kernelspec": {
   "display_name": "Python 3 (ipykernel)",
   "language": "python",
   "name": "python3"
  },
  "language_info": {
   "codemirror_mode": {
    "name": "ipython",
    "version": 3
   },
   "file_extension": ".py",
   "mimetype": "text/x-python",
   "name": "python",
   "nbconvert_exporter": "python",
   "pygments_lexer": "ipython3",
   "version": "3.12.2"
  }
 },
 "nbformat": 4,
 "nbformat_minor": 5
}
